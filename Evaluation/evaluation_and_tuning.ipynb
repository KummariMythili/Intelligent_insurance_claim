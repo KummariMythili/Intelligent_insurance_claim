{
 "cells": [
  {
   "cell_type": "code",
   "execution_count": 5,
   "id": "6ab819c3",
   "metadata": {},
   "outputs": [
    {
     "name": "stdout",
     "output_type": "stream",
     "text": [
      "✅ Data loaded: (2000, 11)\n",
      "Fitting 5 folds for each of 18 candidates, totalling 90 fits\n",
      "\n",
      "✅ Tuned SVM Accuracy: 0.5200\n",
      "📄 Classification Report:\n",
      "              precision    recall  f1-score   support\n",
      "\n",
      "           0       0.52      0.50      0.51       200\n",
      "           1       0.52      0.54      0.53       200\n",
      "\n",
      "    accuracy                           0.52       400\n",
      "   macro avg       0.52      0.52      0.52       400\n",
      "weighted avg       0.52      0.52      0.52       400\n",
      "\n",
      "🏅 Best Parameters: {'C': 10, 'gamma': 'scale', 'kernel': 'poly'}\n",
      "📦 Fine-tuned model saved as 'fine_tune.pkl'\n"
     ]
    }
   ],
   "source": [
    "# 📌 Import Libraries\n",
    "import pandas as pd\n",
    "from sklearn.model_selection import train_test_split, GridSearchCV\n",
    "from sklearn.svm import SVC\n",
    "from sklearn.metrics import classification_report, accuracy_score\n",
    "import joblib\n",
    "import os\n",
    "\n",
    "# 📌 Load Preprocessed Data\n",
    "df = pd.read_csv('../Data/preprocessed_data.csv')\n",
    "print(\"✅ Data loaded:\", df.shape)\n",
    "\n",
    "# 📌 Features and Target\n",
    "X = df.drop('Claim_Status', axis=1)\n",
    "y = df['Claim_Status']\n",
    "\n",
    "# 📌 Train-Test Split\n",
    "X_train, X_test, y_train, y_test = train_test_split(\n",
    "    X, y, test_size=0.2, random_state=42, stratify=y\n",
    ")\n",
    "\n",
    "# 📌 Define SVM with GridSearchCV\n",
    "param_grid = {\n",
    "    'C': [0.1, 1, 10],\n",
    "    'kernel': ['linear', 'rbf', 'poly'],\n",
    "    'gamma': ['scale', 'auto']\n",
    "}\n",
    "\n",
    "grid = GridSearchCV(SVC(probability=True), param_grid, cv=5, verbose=1, n_jobs=-1)\n",
    "grid.fit(X_train, y_train)\n",
    "\n",
    "# 📌 Evaluate Best Model\n",
    "best_model = grid.best_estimator_\n",
    "y_pred = best_model.predict(X_test)\n",
    "accuracy = accuracy_score(y_test, y_pred)\n",
    "\n",
    "print(f\"\\n✅ Tuned SVM Accuracy: {accuracy:.4f}\")\n",
    "print(\"📄 Classification Report:\")\n",
    "print(classification_report(y_test, y_pred))\n",
    "print(\"🏅 Best Parameters:\", grid.best_params_)\n",
    "\n",
    "# 📌 Save Fine-tuned Model\n",
    "os.makedirs('../App/model', exist_ok=True)\n",
    "joblib.dump(best_model, '../App/model/fine_tune.pkl')\n",
    "print(\"📦 Fine-tuned model saved as 'fine_tune.pkl'\")\n"
   ]
  }
 ],
 "metadata": {
  "kernelspec": {
   "display_name": "intelligent_env",
   "language": "python",
   "name": "python3"
  },
  "language_info": {
   "codemirror_mode": {
    "name": "ipython",
    "version": 3
   },
   "file_extension": ".py",
   "mimetype": "text/x-python",
   "name": "python",
   "nbconvert_exporter": "python",
   "pygments_lexer": "ipython3",
   "version": "3.10.18"
  }
 },
 "nbformat": 4,
 "nbformat_minor": 5
}

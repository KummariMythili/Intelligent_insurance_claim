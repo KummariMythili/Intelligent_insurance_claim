{
 "cells": [
  {
   "cell_type": "code",
   "execution_count": 5,
   "id": "b9dadda9",
   "metadata": {},
   "outputs": [
    {
     "name": "stdout",
     "output_type": "stream",
     "text": [
      "✅ Preprocessed data loaded: (2000, 11)\n",
      "✅ SVM Accuracy: 0.5575\n",
      "📦 Model saved as 'model.pkl'\n"
     ]
    }
   ],
   "source": [
    "# 📌 Import Libraries\n",
    "import pandas as pd\n",
    "import joblib\n",
    "import os\n",
    "from sklearn.model_selection import train_test_split\n",
    "from sklearn.svm import SVC\n",
    "from sklearn.metrics import accuracy_score\n",
    "\n",
    "# 📌 Load Preprocessed Data\n",
    "df = pd.read_csv('../Data/preprocessed_data.csv')\n",
    "print(\"✅ Preprocessed data loaded:\", df.shape)\n",
    "\n",
    "# 📌 Features and Target\n",
    "X = df.drop('Claim_Status', axis=1)\n",
    "y = df['Claim_Status']\n",
    "\n",
    "# 📌 Train-Test Split\n",
    "X_train, X_test, y_train, y_test = train_test_split(X, y, test_size=0.2, random_state=42, stratify=y)\n",
    "\n",
    "# 📌 Train SVM Model\n",
    "model = SVC(probability=True)\n",
    "model.fit(X_train, y_train)\n",
    "\n",
    "# 📌 Evaluate\n",
    "y_pred = model.predict(X_test)\n",
    "accuracy = accuracy_score(y_test, y_pred)\n",
    "print(f\"✅ SVM Accuracy: {accuracy:.4f}\")\n",
    "\n",
    "# 📌 Save the model\n",
    "os.makedirs('../App/model', exist_ok=True)\n",
    "joblib.dump(model, '../App/model/model.pkl')\n",
    "print(\"📦 Model saved as 'model.pkl'\")\n"
   ]
  }
 ],
 "metadata": {
  "kernelspec": {
   "display_name": "intelligent_env",
   "language": "python",
   "name": "python3"
  },
  "language_info": {
   "codemirror_mode": {
    "name": "ipython",
    "version": 3
   },
   "file_extension": ".py",
   "mimetype": "text/x-python",
   "name": "python",
   "nbconvert_exporter": "python",
   "pygments_lexer": "ipython3",
   "version": "3.10.18"
  }
 },
 "nbformat": 4,
 "nbformat_minor": 5
}
